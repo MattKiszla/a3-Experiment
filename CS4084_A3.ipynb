{
 "cells": [
  {
   "cell_type": "code",
   "execution_count": 1,
   "id": "a1da6557",
   "metadata": {},
   "outputs": [
    {
     "data": {
      "text/html": [
       "<div>\n",
       "<style scoped>\n",
       "    .dataframe tbody tr th:only-of-type {\n",
       "        vertical-align: middle;\n",
       "    }\n",
       "\n",
       "    .dataframe tbody tr th {\n",
       "        vertical-align: top;\n",
       "    }\n",
       "\n",
       "    .dataframe thead th {\n",
       "        text-align: right;\n",
       "    }\n",
       "</style>\n",
       "<table border=\"1\" class=\"dataframe\">\n",
       "  <thead>\n",
       "    <tr style=\"text-align: right;\">\n",
       "      <th></th>\n",
       "      <th>Id</th>\n",
       "      <th>Date</th>\n",
       "      <th>Type</th>\n",
       "      <th>TrueValue</th>\n",
       "      <th>GuessValue</th>\n",
       "      <th>Error</th>\n",
       "      <th>Point1</th>\n",
       "      <th>Point2</th>\n",
       "    </tr>\n",
       "  </thead>\n",
       "  <tbody>\n",
       "    <tr>\n",
       "      <th>734</th>\n",
       "      <td>ekytc</td>\n",
       "      <td>2/14/2024 6:59:17</td>\n",
       "      <td>Radar</td>\n",
       "      <td>76.595745</td>\n",
       "      <td>70</td>\n",
       "      <td>2.75</td>\n",
       "      <td>36</td>\n",
       "      <td>47</td>\n",
       "    </tr>\n",
       "    <tr>\n",
       "      <th>735</th>\n",
       "      <td>ekytc</td>\n",
       "      <td>2/14/2024 6:59:29</td>\n",
       "      <td>Bar</td>\n",
       "      <td>26.865672</td>\n",
       "      <td>24</td>\n",
       "      <td>1.58</td>\n",
       "      <td>18</td>\n",
       "      <td>67</td>\n",
       "    </tr>\n",
       "    <tr>\n",
       "      <th>736</th>\n",
       "      <td>ekytc</td>\n",
       "      <td>2/14/2024 6:59:43</td>\n",
       "      <td>Pie</td>\n",
       "      <td>56.896552</td>\n",
       "      <td>62</td>\n",
       "      <td>2.39</td>\n",
       "      <td>33</td>\n",
       "      <td>58</td>\n",
       "    </tr>\n",
       "    <tr>\n",
       "      <th>737</th>\n",
       "      <td>ekytc</td>\n",
       "      <td>2/14/2024 6:59:58</td>\n",
       "      <td>Radar</td>\n",
       "      <td>5.263158</td>\n",
       "      <td>3</td>\n",
       "      <td>1.26</td>\n",
       "      <td>1</td>\n",
       "      <td>19</td>\n",
       "    </tr>\n",
       "    <tr>\n",
       "      <th>738</th>\n",
       "      <td>ekytc</td>\n",
       "      <td>2/14/2024 7:00:15</td>\n",
       "      <td>Bar</td>\n",
       "      <td>9.333333</td>\n",
       "      <td>8</td>\n",
       "      <td>0.54</td>\n",
       "      <td>7</td>\n",
       "      <td>75</td>\n",
       "    </tr>\n",
       "  </tbody>\n",
       "</table>\n",
       "</div>"
      ],
      "text/plain": [
       "        Id               Date   Type  TrueValue  GuessValue  Error  Point1  \\\n",
       "734  ekytc  2/14/2024 6:59:17  Radar  76.595745          70   2.75      36   \n",
       "735  ekytc  2/14/2024 6:59:29    Bar  26.865672          24   1.58      18   \n",
       "736  ekytc  2/14/2024 6:59:43    Pie  56.896552          62   2.39      33   \n",
       "737  ekytc  2/14/2024 6:59:58  Radar   5.263158           3   1.26       1   \n",
       "738  ekytc  2/14/2024 7:00:15    Bar   9.333333           8   0.54       7   \n",
       "\n",
       "     Point2  \n",
       "734      47  \n",
       "735      67  \n",
       "736      58  \n",
       "737      19  \n",
       "738      75  "
      ]
     },
     "execution_count": 1,
     "metadata": {},
     "output_type": "execute_result"
    }
   ],
   "source": [
    "import pandas as pd\n",
    "import numpy as np\n",
    "\n",
    "df = pd.read_csv(\"A3 Experimental Data - Sheet1.csv\")\n",
    "df = df.iloc[: , :-1]\n",
    "\n",
    "df.tail()"
   ]
  },
  {
   "cell_type": "code",
   "execution_count": 2,
   "id": "6cfcf74b",
   "metadata": {},
   "outputs": [
    {
     "data": {
      "text/plain": [
       "Radar    249\n",
       "Pie      248\n",
       "Bar      242\n",
       "Name: Type, dtype: int64"
      ]
     },
     "execution_count": 2,
     "metadata": {},
     "output_type": "execute_result"
    }
   ],
   "source": [
    "df[\"Type\"].value_counts()"
   ]
  },
  {
   "cell_type": "code",
   "execution_count": 3,
   "id": "7a150b1c",
   "metadata": {},
   "outputs": [
    {
     "data": {
      "text/html": [
       "<div>\n",
       "<style scoped>\n",
       "    .dataframe tbody tr th:only-of-type {\n",
       "        vertical-align: middle;\n",
       "    }\n",
       "\n",
       "    .dataframe tbody tr th {\n",
       "        vertical-align: top;\n",
       "    }\n",
       "\n",
       "    .dataframe thead th {\n",
       "        text-align: right;\n",
       "    }\n",
       "</style>\n",
       "<table border=\"1\" class=\"dataframe\">\n",
       "  <thead>\n",
       "    <tr style=\"text-align: right;\">\n",
       "      <th></th>\n",
       "      <th>mean</th>\n",
       "      <th>std</th>\n",
       "    </tr>\n",
       "    <tr>\n",
       "      <th>Type</th>\n",
       "      <th></th>\n",
       "      <th></th>\n",
       "    </tr>\n",
       "  </thead>\n",
       "  <tbody>\n",
       "    <tr>\n",
       "      <th>Bar</th>\n",
       "      <td>1.773678</td>\n",
       "      <td>1.910976</td>\n",
       "    </tr>\n",
       "    <tr>\n",
       "      <th>Pie</th>\n",
       "      <td>2.212944</td>\n",
       "      <td>2.036939</td>\n",
       "    </tr>\n",
       "    <tr>\n",
       "      <th>Radar</th>\n",
       "      <td>2.728153</td>\n",
       "      <td>1.910636</td>\n",
       "    </tr>\n",
       "  </tbody>\n",
       "</table>\n",
       "</div>"
      ],
      "text/plain": [
       "           mean       std\n",
       "Type                     \n",
       "Bar    1.773678  1.910976\n",
       "Pie    2.212944  2.036939\n",
       "Radar  2.728153  1.910636"
      ]
     },
     "execution_count": 3,
     "metadata": {},
     "output_type": "execute_result"
    }
   ],
   "source": [
    "df.groupby(\"Type\")[\"Error\"].agg([\"mean\", \"std\"])"
   ]
  },
  {
   "cell_type": "code",
   "execution_count": 4,
   "id": "f4556369",
   "metadata": {},
   "outputs": [],
   "source": [
    "pie = df[df['Type'] == 'Pie']['Error']\n",
    "radar = df[df['Type'] == 'Radar']['Error']\n",
    "bar = df[df['Type'] == 'Bar']['Error']\n",
    "\n",
    "# pie.head()"
   ]
  },
  {
   "cell_type": "code",
   "execution_count": 5,
   "id": "9ed88439",
   "metadata": {},
   "outputs": [
    {
     "name": "stdout",
     "output_type": "stream",
     "text": [
      "Bootstrap Lower, Mean, and Upper Bound for Pie Error: (2.200555443548387, 2.209232620967742, 2.2149576612903226)\n",
      "Bootstrap Lower, Mean, and Upper Bound for Radar Error: (2.714899598393573, 2.724810281124498, 2.730621485943775)\n",
      "Bootstrap Lower, Mean, and Upper Bound for Bar Error: (1.7714958677685955, 1.7772047933884294, 1.7850506198347103)\n"
     ]
    }
   ],
   "source": [
    "from scipy.stats import sem\n",
    "from sklearn.utils import resample\n",
    "\n",
    "\n",
    "def bootstrap_confidence_interval(data, n_bootstrap, alpha):\n",
    "    bootstrap_errors = []\n",
    "    for Vis in range(n_bootstrap):\n",
    "        sample = resample(data)\n",
    "        error_mean = sample.mean()\n",
    "        bootstrap_errors.append(error_mean)\n",
    "        \n",
    "    mean_error = np.mean(bootstrap_errors)\n",
    "    lower_bound = np.percentile(bootstrap_errors, (1-alpha)/2 * 100)\n",
    "    upper_bound = np.percentile(bootstrap_errors, (1+alpha)/2 * 100)\n",
    "    return lower_bound, mean_error, upper_bound\n",
    "\n",
    "n_bootstrap = 1000  \n",
    "alpha = 0.05\n",
    "\n",
    "pie_ci = bootstrap_confidence_interval(pie, n_bootstrap, alpha)\n",
    "radar_ci = bootstrap_confidence_interval(radar, n_bootstrap, alpha)\n",
    "bar_ci = bootstrap_confidence_interval(bar, n_bootstrap, alpha)\n",
    "\n",
    "print(\"Bootstrap Lower, Mean, and Upper Bound for Pie Error:\", pie_ci)\n",
    "print(\"Bootstrap Lower, Mean, and Upper Bound for Radar Error:\", radar_ci)\n",
    "print(\"Bootstrap Lower, Mean, and Upper Bound for Bar Error:\", bar_ci)"
   ]
  },
  {
   "cell_type": "markdown",
   "id": "0b9be583",
   "metadata": {},
   "source": [
    "# Confidence Interval Visualization"
   ]
  },
  {
   "cell_type": "code",
   "execution_count": 6,
   "id": "24226438",
   "metadata": {
    "scrolled": true
   },
   "outputs": [
    {
     "name": "stderr",
     "output_type": "stream",
     "text": [
      "/var/folders/0v/8nnlrzmn2g33vwz78930kzs80000gn/T/ipykernel_7470/2204803761.py:21: UserWarning: color is redundantly defined by the 'color' keyword argument and the fmt string \"ro\" (-> color='r'). The keyword argument will take precedence.\n",
      "  plt.plot(mean, y, 'ro', color='black')\n"
     ]
    },
    {
     "data": {
      "image/png": "[encoded data removed]",
      "text/plain": [
       "<Figure size 800x300 with 1 Axes>"
      ]
     },
     "metadata": {},
     "output_type": "display_data"
    }
   ],
   "source": [
    "import pandas as pd\n",
    "from matplotlib import pyplot as plt\n",
    "\n",
    "data_dict = {}\n",
    "data_dict['category'] = ['Bar', 'Pie', 'Radar']\n",
    "data_dict['lower'] = [[bar_ci[0]],[pie_ci[0]], [radar_ci[0]]]\n",
    "data_dict['mean'] = [[bar_ci[1]],[pie_ci[1]],[radar_ci[1]]]\n",
    "data_dict['upper'] = [[bar_ci[2]], [pie_ci[2]],[radar_ci[2]]]\n",
    "dataset = pd.DataFrame(data_dict)\n",
    "\n",
    "\n",
    "category_order = ['Radar', 'Pie', 'Bar']\n",
    "dataset['category'] = pd.Categorical(dataset['category'], categories=category_order, ordered=True)\n",
    "dataset = dataset.sort_values(by='category')\n",
    "\n",
    "plt.figure(figsize=(8, 3))\n",
    "\n",
    "for lower, mean, upper, y, label in zip(dataset['lower'], dataset['mean'], dataset['upper'], range(len(dataset)), dataset['category']):\n",
    "    plt.vlines(lower, y - 0.1, y + 0.1, colors='black', linestyles='solid')\n",
    "    plt.vlines(upper, y - 0.1, y + 0.1, colors='black', linestyles='solid')\n",
    "    plt.plot(mean, y, 'ro', color='black')\n",
    "    plt.hlines(y, lower, upper, colors='black', linestyles='solid')\n",
    "\n",
    "plt.yticks(range(len(dataset)), list(dataset['category']))\n",
    "plt.xlabel('Log Error')\n",
    "plt.ylabel('Category')\n",
    "plt.title('Bootstrap Confidence Intervals')\n",
    "plt.ylim(-0.5, len(dataset) - 0.5)  \n",
    "plt.xticks(fontsize=8)\n",
    "\n",
    "ticks = [1.75, 2.0, 2.25, 2.5, 2.75]\n",
    "plt.xticks(ticks)\n",
    "\n",
    "# plt.grid(True)\n",
    "plt.tight_layout() \n",
    "plt.show()"
   ]
  },
  {
   "cell_type": "markdown",
   "id": "46e81071",
   "metadata": {},
   "source": [
    "# Time"
   ]
  },
  {
   "cell_type": "code",
   "execution_count": 11,
   "id": "7b906bc8",
   "metadata": {},
   "outputs": [
    {
     "name": "stdout",
     "output_type": "stream",
     "text": [
      "        Id                Date   Type  TrueValue  GuessValue  Error  Point1  \\\n",
      "286  1harg 2024-02-11 22:37:32    Bar  14.925373          50   0.00      10   \n",
      "287  1harg 2024-02-11 22:37:44    Bar  14.925373           5   3.33      10   \n",
      "288  1harg 2024-02-11 22:37:57    Bar  89.743590          25   6.02      35   \n",
      "289  1harg 2024-02-11 22:38:38  Radar  86.904762          80   2.81      73   \n",
      "290  1harg 2024-02-11 22:38:47    Bar  60.526316          50   3.41      46   \n",
      "291  1harg 2024-02-11 22:39:06  Radar  95.121951          30   6.03      39   \n",
      "292  1harg 2024-02-11 22:39:16    Pie  10.606061           9   0.79       7   \n",
      "293  1harg 2024-02-11 22:39:25    Pie   8.045977           5   1.66       7   \n",
      "294  1harg 2024-02-11 22:39:32    Bar   6.410256           2   2.18       5   \n",
      "295  1harg 2024-02-11 22:39:37    Pie  18.367347          18  -1.02       9   \n",
      "296  1harg 2024-02-11 22:39:43    Bar   4.411765           2   1.34       3   \n",
      "297  1harg 2024-02-11 22:39:48    Bar   9.090909           2   2.85       2   \n",
      "298  1harg 2024-02-11 22:39:54    Pie   3.947368           4  -2.49       3   \n",
      "299  1harg 2024-02-11 22:40:04  Radar  11.688312           8   1.93       9   \n",
      "300  1harg 2024-02-11 22:40:12    Pie  14.285714          16   0.88       8   \n",
      "301  1harg 2024-02-11 22:40:19    Pie   3.448276           5   0.75       3   \n",
      "302  1harg 2024-02-11 22:40:24    Bar  20.000000          16   2.04      17   \n",
      "303  1harg 2024-02-11 22:40:34  Radar  96.000000          44   5.70      48   \n",
      "304  1harg 2024-02-11 22:40:42  Radar  11.235955           7   2.12      10   \n",
      "305  1harg 2024-02-11 22:40:50    Bar   3.061224           2   0.25       3   \n",
      "\n",
      "     Point2  TimePerGuess  \n",
      "286      67           NaN  \n",
      "287      67          12.0  \n",
      "288      39          13.0  \n",
      "289      84          41.0  \n",
      "290      76           9.0  \n",
      "291      41          19.0  \n",
      "292      66          10.0  \n",
      "293      87           9.0  \n",
      "294      78           7.0  \n",
      "295      49           5.0  \n",
      "296      68           6.0  \n",
      "297      22           5.0  \n",
      "298      76           6.0  \n",
      "299      77          10.0  \n",
      "300      56           8.0  \n",
      "301      87           7.0  \n",
      "302      85           5.0  \n",
      "303      50          10.0  \n",
      "304      89           8.0  \n",
      "305      98           8.0  \n",
      "Type\n",
      "Bar      314.004219\n",
      "Pie       23.539419\n",
      "Radar     84.157676\n",
      "Name: TimePerGuess, dtype: float64\n"
     ]
    }
   ],
   "source": [
    "df['Date'] = pd.to_datetime(df['Date'])\n",
    "df = df.sort_values(by=['Id', 'Date'])\n",
    "df['TimePerGuess'] = df.groupby('Id')['Date'].diff().dt.total_seconds()\n",
    "\n",
    "# Time for each guess relative to the previous guess\n",
    "\n",
    "print(df.head(20))\n",
    "print(df.groupby('Type')['TimePerGuess'].mean())"
   ]
  },
  {
   "cell_type": "code",
   "execution_count": 12,
   "id": "89315576",
   "metadata": {},
   "outputs": [
    {
     "name": "stdout",
     "output_type": "stream",
     "text": [
      "Bootstrap Lower, Mean, and Upper Bound for Pie Time: (22.183987603305784, 23.23194531452423, 22.709700582576886)\n",
      "Bootstrap Lower, Mean, and Upper Bound for Radar Time: (79.34836761603376, 83.65193666760638, 83.48825632610027)\n",
      "Bootstrap Lower, Mean, and Upper Bound for Bar Time: (308.3996084576675, 322.5204181051618, 311.56861924686194)\n"
     ]
    }
   ],
   "source": [
    "pieT = df[df['Type'] == 'Pie']['TimePerGuess']\n",
    "radarT = df[df['Type'] == 'Radar']['TimePerGuess']\n",
    "barT = df[df['Type'] == 'Bar']['TimePerGuess']\n",
    "\n",
    "pie_ci = bootstrap_confidence_interval(pieT, n_bootstrap, alpha)\n",
    "radar_ci = bootstrap_confidence_interval(radarT, n_bootstrap, alpha)\n",
    "bar_ci = bootstrap_confidence_interval(barT, n_bootstrap, alpha)\n",
    "\n",
    "print(\"Bootstrap Lower, Mean, and Upper Bound for Pie Time:\", pie_ci)\n",
    "print(\"Bootstrap Lower, Mean, and Upper Bound for Radar Time:\", radar_ci)\n",
    "print(\"Bootstrap Lower, Mean, and Upper Bound for Bar Time:\", bar_ci)"
   ]
  },
  {
   "cell_type": "code",
   "execution_count": 21,
   "id": "11bb86f6",
   "metadata": {},
   "outputs": [
    {
     "name": "stderr",
     "output_type": "stream",
     "text": [
      "/var/folders/0v/8nnlrzmn2g33vwz78930kzs80000gn/T/ipykernel_7470/727574357.py:20: UserWarning: color is redundantly defined by the 'color' keyword argument and the fmt string \"ro\" (-> color='r'). The keyword argument will take precedence.\n",
      "  plt.plot(mean, y, 'ro', color='black')\n"
     ]
    },
    {
     "data": {
      "image/png": "[encoded data removed]",
      "text/plain": [
       "<Figure size 800x300 with 1 Axes>"
      ]
     },
     "metadata": {},
     "output_type": "display_data"
    }
   ],
   "source": [
    "data_dict = {}\n",
    "data_dict['category'] = ['Bar', 'Pie', 'Radar']\n",
    "data_dict['lower'] = [[bar_ci[0]],[pie_ci[0]], [radar_ci[0]]]\n",
    "data_dict['mean'] = [[bar_ci[1]],[pie_ci[1]],[radar_ci[1]]]\n",
    "data_dict['upper'] = [[bar_ci[2]], [pie_ci[2]],[radar_ci[2]]]\n",
    "dataset = pd.DataFrame(data_dict)\n",
    "\n",
    "\n",
    "category_order = ['Bar', 'Radar', 'Pie']\n",
    "dataset['category'] = pd.Categorical(dataset['category'], categories=category_order, ordered=True)\n",
    "dataset = dataset.sort_values(by='category')\n",
    "\n",
    "plt.figure(figsize=(8, 3))\n",
    "\n",
    "for lower, mean, upper, y, label in zip(dataset['lower'], dataset['mean'], dataset['upper'], range(len(dataset)), dataset['category']):\n",
    "    plt.vlines(lower, y - 0.1, y + 0.1, colors='black', linestyles='solid')\n",
    "    plt.vlines(upper, y - 0.1, y + 0.1, colors='black', linestyles='solid')\n",
    "#     plt.text(lower - 0.03, y + 0.05, f\"{lower:.2f}\", color='orange', fontsize=8)\n",
    "#     plt.text(upper - 0.03, y + 0.05, f\"{upper:.2f}\", color='orange', fontsize=8)\n",
    "    plt.plot(mean, y, 'ro', color='black')\n",
    "#     plt.text(mean - 0.03, y - 0.1, f\"{mean:.2f}\", color='green', fontsize=8)\n",
    "    plt.hlines(y, lower, upper, colors='black', linestyles='solid')\n",
    "\n",
    "plt.yticks(range(len(dataset)), list(dataset['category']))\n",
    "plt.xlabel('Log Error')\n",
    "plt.ylabel('Category')\n",
    "plt.title('Bootstrap Confidence Intervals')\n",
    "plt.ylim(-0.5, len(dataset) - 0.5)  \n",
    "plt.xticks(fontsize=8)\n",
    "\n",
    "# plt.grid(True)\n",
    "plt.tight_layout() \n",
    "plt.show()"
   ]
  },
  {
   "cell_type": "markdown",
   "id": "043b71d5",
   "metadata": {},
   "source": [
    "# Outliers"
   ]
  },
  {
   "cell_type": "code",
   "execution_count": 18,
   "id": "8c1fbd92",
   "metadata": {},
   "outputs": [
    {
     "name": "stdout",
     "output_type": "stream",
     "text": [
      "Outliers:\n",
      "         Id                Date   Type  TrueValue  GuessValue  Error  Point1  \\\n",
      "86    1zspd 2024-02-11 13:53:56    Bar  56.097561           5   5.68      46   \n",
      "154   1zspd 2024-02-11 18:05:19  Radar  37.333333           8   4.88      28   \n",
      "161   1zspd 2024-02-11 18:12:15    Pie  20.779221          34   3.74      16   \n",
      "163   1zspd 2024-02-11 18:38:29  Radar  96.000000          34   5.96      48   \n",
      "347   1zspd 2024-02-12 13:56:19    Bar  25.454545          34   3.12      14   \n",
      "371   1zspd 2024-02-12 14:00:21    Pie  36.666667          50   3.75      22   \n",
      "423   1zspd 2024-02-12 14:05:59  Radar  79.545455          98   4.22      35   \n",
      "562   5gzdh 2024-02-12 17:28:24  Radar  63.829787          40   4.58      30   \n",
      "459  a66mji 2024-02-12 15:21:34  Radar  81.132075          80   0.33      43   \n",
      "469  a66mji 2024-02-12 15:23:15    Pie  13.235294           7   2.67       9   \n",
      "115   aizcu 2024-02-11 14:32:58  Radar  16.666667          16  -0.34      12   \n",
      "438   oh1ka 2024-02-12 15:16:28    Pie  30.000000           3   4.76      18   \n",
      "\n",
      "     Point2  TimePerGuess  \n",
      "86       82        1836.0  \n",
      "154      75       15026.0  \n",
      "161      77         359.0  \n",
      "163      50        1574.0  \n",
      "347      55       69470.0  \n",
      "371      60         205.0  \n",
      "423      44         109.0  \n",
      "562      47         117.0  \n",
      "459      53         103.0  \n",
      "469      68          80.0  \n",
      "115      72          81.0  \n",
      "438      60        1449.0  \n"
     ]
    }
   ],
   "source": [
    "Q1 = df['TimePerGuess'].quantile(0.05)\n",
    "Q3 = df['TimePerGuess'].quantile(0.95)\n",
    "\n",
    "IQR = Q3 - Q1\n",
    "\n",
    "lower_bound = Q1 - 1.5 * IQR\n",
    "upper_bound = Q3 + 1.5 * IQR\n",
    "\n",
    "# Find outliers\n",
    "outliers = df[(df['TimePerGuess'] < lower_bound) | (df['TimePerGuess'] > upper_bound)]\n",
    "\n",
    "print(\"Outliers:\")\n",
    "print(outliers)"
   ]
  },
  {
   "cell_type": "code",
   "execution_count": 24,
   "id": "331304ad",
   "metadata": {},
   "outputs": [
    {
     "name": "stdout",
     "output_type": "stream",
     "text": [
      "        Id                Date   Type  TrueValue  GuessValue  Error  Point1  \\\n",
      "5    1zspd 2024-02-11 13:18:51    Bar  74.418605          50   0.00      32   \n",
      "6    1zspd 2024-02-11 13:19:06    Bar  74.418605          28   5.54      32   \n",
      "7    1zspd 2024-02-11 13:19:22    Pie  61.363636          10   5.69      27   \n",
      "8    1zspd 2024-02-11 13:19:34    Bar  92.000000           5   6.45      69   \n",
      "9    1zspd 2024-02-11 13:19:46  Radar  92.553191           5   6.45      87   \n",
      "..     ...                 ...    ...        ...         ...    ...     ...   \n",
      "410  1zspd 2024-02-12 14:04:10    Pie  27.027027          25   1.11      10   \n",
      "423  1zspd 2024-02-12 14:05:59  Radar  79.545455          98   4.22      35   \n",
      "430  1zspd 2024-02-12 14:06:39    Bar  54.545455          55  -0.79      42   \n",
      "432  1zspd 2024-02-12 14:06:48    Pie  18.918919          34   3.93      14   \n",
      "434  1zspd 2024-02-12 14:07:00    Pie  61.111111          50   3.49      11   \n",
      "\n",
      "     Point2  TimePerGuess  \n",
      "5        43           NaN  \n",
      "6        43          15.0  \n",
      "7        44          16.0  \n",
      "8        75          12.0  \n",
      "9        94          12.0  \n",
      "..      ...           ...  \n",
      "410      37          19.0  \n",
      "423      44         109.0  \n",
      "430      77          40.0  \n",
      "432      74           9.0  \n",
      "434      18          12.0  \n",
      "\n",
      "[61 rows x 9 columns]\n"
     ]
    }
   ],
   "source": [
    "id = \"1zspd\"\n",
    "filtered_df = df[df['Id'] == id]\n",
    "\n",
    "# Print the filtered DataFrame\n",
    "print(filtered_df)"
   ]
  },
  {
   "cell_type": "code",
   "execution_count": null,
   "id": "aa688094",
   "metadata": {},
   "outputs": [],
   "source": []
  }
 ],
 "metadata": {
  "kernelspec": {
   "display_name": "Python 3 (ipykernel)",
   "language": "python",
   "name": "python3"
  },
  "language_info": {
   "codemirror_mode": {
    "name": "ipython",
    "version": 3
   },
   "file_extension": ".py",
   "mimetype": "text/x-python",
   "name": "python",
   "nbconvert_exporter": "python",
   "pygments_lexer": "ipython3",
   "version": "3.9.13"
  }
 },
 "nbformat": 4,
 "nbformat_minor": 5
}
